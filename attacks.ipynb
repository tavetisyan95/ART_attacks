{
 "cells": [
  {
   "cell_type": "markdown",
   "metadata": {},
   "source": [
    "https://github.com/Trusted-AI/adversarial-robustness-toolbox/blob/main/notebooks/art-for-tensorflow-v2-keras.ipynb"
   ]
  },
  {
   "cell_type": "markdown",
   "metadata": {},
   "source": [
    "# Evasion attacks in ART"
   ]
  },
  {
   "cell_type": "markdown",
   "metadata": {},
   "source": [
    "## Importing dependencies"
   ]
  },
  {
   "cell_type": "code",
   "execution_count": 1,
   "metadata": {},
   "outputs": [],
   "source": [
    "# Importing dependencies\n",
    "import tensorflow as tf\n",
    "from tensorflow.keras.layers import Conv2D, MaxPool2D, Dense, Flatten\n",
    "import numpy as np\n",
    "import matplotlib.pyplot as plt\n",
    "import matplotlib\n",
    "from art.estimators.classification import KerasClassifier\n",
    "from art.attacks.evasion import FastGradientMethod\n",
    "from art.utils import load_dataset\n",
    "\n",
    "# Disabling eager execution from TF 2\n",
    "tf.compat.v1.disable_eager_execution()\n",
    "\n",
    "# Increasing Matplotlib font size\n",
    "matplotlib.rcParams.update({\"font.size\": 14})\n"
   ]
  },
  {
   "cell_type": "markdown",
   "metadata": {},
   "source": [
    "## Loading data"
   ]
  },
  {
   "cell_type": "code",
   "execution_count": 2,
   "metadata": {},
   "outputs": [],
   "source": [
    "# Loading the data\n",
    "(train_images, train_labels), (test_images, test_labels), min, max = load_dataset(name=\"mnist\")"
   ]
  },
  {
   "cell_type": "markdown",
   "metadata": {},
   "source": [
    "## Training a TensorFlow Keras model"
   ]
  },
  {
   "cell_type": "code",
   "execution_count": 3,
   "metadata": {},
   "outputs": [],
   "source": [
    "# Function for creating model\n",
    "def create_model():\n",
    "    # Defining the model\n",
    "    model = tf.keras.models.Sequential([\n",
    "        Conv2D(filters=32, kernel_size=3, activation=\"relu\", input_shape=(28, 28, 1)),\n",
    "        MaxPool2D(pool_size=2),\n",
    "        Conv2D(filters=64, kernel_size=3, activation=\"relu\"),\n",
    "        MaxPool2D(pool_size=2),\n",
    "        Flatten(),        \n",
    "        Dense(units=10, activation=\"softmax\")\n",
    "    ])\n",
    "\n",
    "    # Compiling the model\n",
    "    model.compile(\n",
    "        optimizer=\"adam\",\n",
    "        loss=\"categorical_crossentropy\",\n",
    "        metrics=[\"accuracy\"]\n",
    "        )\n",
    "\n",
    "    # Returning the model\n",
    "    return model"
   ]
  },
  {
   "cell_type": "code",
   "execution_count": 4,
   "metadata": {},
   "outputs": [
    {
     "name": "stdout",
     "output_type": "stream",
     "text": [
      "Train on 60000 samples\n",
      "Epoch 1/10\n",
      "60000/60000 [==============================] - 4s 67us/sample - loss: 0.3924 - accuracy: 0.8961\n",
      "Epoch 2/10\n",
      "60000/60000 [==============================] - 2s 33us/sample - loss: 0.0934 - accuracy: 0.9721\n",
      "Epoch 3/10\n",
      "60000/60000 [==============================] - 2s 33us/sample - loss: 0.0665 - accuracy: 0.9804\n",
      "Epoch 4/10\n",
      "60000/60000 [==============================] - 2s 32us/sample - loss: 0.0530 - accuracy: 0.9838\n",
      "Epoch 5/10\n",
      "60000/60000 [==============================] - 2s 32us/sample - loss: 0.0467 - accuracy: 0.9858\n",
      "Epoch 6/10\n",
      "60000/60000 [==============================] - 2s 32us/sample - loss: 0.0404 - accuracy: 0.9875\n",
      "Epoch 7/10\n",
      "60000/60000 [==============================] - 2s 32us/sample - loss: 0.0363 - accuracy: 0.9889\n",
      "Epoch 8/10\n",
      "60000/60000 [==============================] - 2s 31us/sample - loss: 0.0322 - accuracy: 0.9903\n",
      "Epoch 9/10\n",
      "60000/60000 [==============================] - 2s 31us/sample - loss: 0.0288 - accuracy: 0.9912\n",
      "Epoch 10/10\n",
      "60000/60000 [==============================] - 2s 32us/sample - loss: 0.0274 - accuracy: 0.9918\n"
     ]
    },
    {
     "data": {
      "text/plain": [
       "<keras.callbacks.History at 0x24469ba6400>"
      ]
     },
     "execution_count": 4,
     "metadata": {},
     "output_type": "execute_result"
    }
   ],
   "source": [
    "# Instantiating the model\n",
    "model = create_model()\n",
    "\n",
    "# Training the model\n",
    "model.fit(\n",
    "    x=train_images, \n",
    "    y=train_labels, \n",
    "    epochs=10,\n",
    "    batch_size=256)"
   ]
  },
  {
   "cell_type": "markdown",
   "metadata": {},
   "source": [
    "## Defining an evasion attack on our model"
   ]
  },
  {
   "cell_type": "code",
   "execution_count": 5,
   "metadata": {},
   "outputs": [],
   "source": [
    "# Creating a classifier by wrapping our TF model in ART's KerasClassifier class\n",
    "classifier = KerasClassifier(\n",
    "    model=model, \n",
    "    clip_values=(min, max)\n",
    "    )"
   ]
  },
  {
   "cell_type": "code",
   "execution_count": 6,
   "metadata": {},
   "outputs": [],
   "source": [
    "# Defining an attack using the fast gradient method\n",
    "attack_fgsm = FastGradientMethod(\n",
    "    estimator=classifier, \n",
    "    eps=0.3\n",
    "    )"
   ]
  },
  {
   "cell_type": "code",
   "execution_count": 7,
   "metadata": {},
   "outputs": [
    {
     "name": "stderr",
     "output_type": "stream",
     "text": [
      "C:\\Users\\tigra\\AppData\\Local\\Programs\\Python\\Python39\\lib\\site-packages\\keras\\engine\\training_v1.py:2079: UserWarning: `Model.state_updates` will be removed in a future version. This property should not be used in TensorFlow 2.0, as `updates` are applied automatically.\n",
      "  updates=self.state_updates,\n"
     ]
    }
   ],
   "source": [
    "# Generating adversarial images from test images\n",
    "test_images_adv = attack_fgsm.generate(x=test_images)"
   ]
  },
  {
   "cell_type": "markdown",
   "metadata": {},
   "source": [
    "## Evaluating the effectiveness of the attack"
   ]
  },
  {
   "cell_type": "code",
   "execution_count": 8,
   "metadata": {},
   "outputs": [
    {
     "data": {
      "text/plain": [
       "<matplotlib.image.AxesImage at 0x244167c1400>"
      ]
     },
     "execution_count": 8,
     "metadata": {},
     "output_type": "execute_result"
    },
    {
     "data": {
      "image/png": "[encoded data removed]",
      "text/plain": [
       "<Figure size 432x288 with 1 Axes>"
      ]
     },
     "metadata": {
      "needs_background": "light"
     },
     "output_type": "display_data"
    }
   ],
   "source": [
    "# Viewing an adversarial image\n",
    "plt.imshow(X=test_images_adv[0])"
   ]
  },
  {
   "cell_type": "code",
   "execution_count": 9,
   "metadata": {},
   "outputs": [
    {
     "name": "stderr",
     "output_type": "stream",
     "text": [
      "C:\\Users\\tigra\\AppData\\Local\\Programs\\Python\\Python39\\lib\\site-packages\\keras\\engine\\training_v1.py:2057: UserWarning: `Model.state_updates` will be removed in a future version. This property should not be used in TensorFlow 2.0, as `updates` are applied automatically.\n",
      "  updates = self.state_updates\n"
     ]
    },
    {
     "name": "stdout",
     "output_type": "stream",
     "text": [
      "Clean test set loss: 0.04 vs adversarial set test loss: 5.95\n",
      "Clean test set accuracy: 0.99 vs adversarial test set accuracy: 0.07\n"
     ]
    }
   ],
   "source": [
    "# Evaluating the model on clean images\n",
    "score_clean = model.evaluate(\n",
    "    x=test_images, \n",
    "    y=test_labels\n",
    "    )\n",
    "\n",
    "# Evaluating the model on adversarial images\n",
    "score_adv = model.evaluate(\n",
    "    x=test_images_adv, \n",
    "    y=test_labels\n",
    "    )\n",
    "\n",
    "# Comparing test losses\n",
    "print(f\"Clean test set loss: {score_clean[0]:.2f} \" \n",
    "      f\"vs adversarial set test loss: {score_adv[0]:.2f}\")\n",
    "\n",
    "# Comparing test accuracies\n",
    "print(f\"Clean test set accuracy: {score_clean[1]:.2f} \" \n",
    "      f\"vs adversarial test set accuracy: {score_adv[1]:.2f}\")"
   ]
  },
  {
   "cell_type": "code",
   "execution_count": 10,
   "metadata": {},
   "outputs": [
    {
     "data": {
      "image/png": "[encoded data removed]",
      "text/plain": [
       "<Figure size 1440x720 with 10 Axes>"
      ]
     },
     "metadata": {},
     "output_type": "display_data"
    }
   ],
   "source": [
    "# Setting the number of rows and columns for the figure\n",
    "nrows, ncols = 2, 5\n",
    "\n",
    "# Generating subplots\n",
    "fig, axes = plt.subplots(\n",
    "    nrows=nrows, \n",
    "    ncols=ncols, \n",
    "    figsize=(20, 10)\n",
    "    )\n",
    "\n",
    "# Defining a range of eps values to try\n",
    "eps_to_try = [0.01, 0.025, 0.05, 0.075, 0.1, 0.125, 0.15, 0.175, 0.2, 0.25]\n",
    "\n",
    "# Defining a counting variable to traverse eps_to_try\n",
    "counter = 0\n",
    "\n",
    "# Iterating over rows and cols\n",
    "for i in range(nrows):\n",
    "    for j in range(ncols):    \n",
    "        # Creating an attack object for the current value of eps    \n",
    "        attack_fgsm = FastGradientMethod(\n",
    "            estimator=classifier, \n",
    "            eps=eps_to_try[counter]\n",
    "            )\n",
    "\n",
    "        # Generating adversarial images\n",
    "        test_images_adv = attack_fgsm.generate(x=test_images)\n",
    "\n",
    "        # Showing the first adversarial image\n",
    "        axes[i, j].imshow(X=test_images_adv[0])\n",
    "\n",
    "        # Disabling x and y ticks\n",
    "        axes[i, j].set_xticks(ticks=[])\n",
    "        axes[i, j].set_yticks(ticks=[])\n",
    "\n",
    "        # Evaluating model performance on adversarial samples and retrieving test accuracy\n",
    "        test_score = classifier._model.evaluate(\n",
    "            x=test_images_adv, \n",
    "            y=test_labels\n",
    "            )[1]\n",
    "\n",
    "        # Getting prediction for the image that we displayed\n",
    "        prediction = np.argmax(model.predict(\n",
    "            x=np.expand_dims(a=test_images_adv[0], \n",
    "            axis=0)\n",
    "            ))    \n",
    "\n",
    "        # Showing the current eps value, test accuracy, and prediction\n",
    "        axes[i, j].set_title(\n",
    "            label=f\"Eps value: {eps_to_try[counter]}\\n\"\n",
    "            f\"Test accuracy: {test_score * 100:.2f}%\\n\"\n",
    "            f\"Prediction: {prediction}\"\n",
    "            )\n",
    "\n",
    "        # Incrementing counter\n",
    "        counter += 1\n",
    "\n",
    "# Showing the plot\n",
    "plt.show()"
   ]
  },
  {
   "cell_type": "markdown",
   "metadata": {},
   "source": [
    "# Extraction Attacks in ART"
   ]
  },
  {
   "cell_type": "markdown",
   "metadata": {},
   "source": [
    "## Training a victim model"
   ]
  },
  {
   "cell_type": "code",
   "execution_count": 11,
   "metadata": {},
   "outputs": [],
   "source": [
    "# Importing CopycatCNN\n",
    "from art.attacks.extraction import CopycatCNN\n",
    "\n",
    "# Setting aside a subset of the source dataset for the original model\n",
    "train_images_original = train_images[:50000]\n",
    "train_labels_original = train_labels[:50000]\n",
    "\n",
    "# Using the rest of the source dataset for the stolen model\n",
    "train_images_stolen = train_images[50000:]\n",
    "train_labels_stolen = train_labels[50000:]"
   ]
  },
  {
   "cell_type": "code",
   "execution_count": 12,
   "metadata": {},
   "outputs": [
    {
     "name": "stdout",
     "output_type": "stream",
     "text": [
      "Train on 50000 samples\n",
      "Epoch 1/10\n",
      "50000/50000 [==============================] - 2s 36us/sample - loss: 0.4450 - accuracy: 0.8741\n",
      "Epoch 2/10\n",
      "50000/50000 [==============================] - 2s 32us/sample - loss: 0.1050 - accuracy: 0.9681\n",
      "Epoch 3/10\n",
      "50000/50000 [==============================] - 2s 32us/sample - loss: 0.0750 - accuracy: 0.9770\n",
      "Epoch 4/10\n",
      "50000/50000 [==============================] - 2s 32us/sample - loss: 0.0615 - accuracy: 0.9810\n",
      "Epoch 5/10\n",
      "50000/50000 [==============================] - 2s 32us/sample - loss: 0.0522 - accuracy: 0.9843\n",
      "Epoch 6/10\n",
      "50000/50000 [==============================] - 2s 32us/sample - loss: 0.0463 - accuracy: 0.9864\n",
      "Epoch 7/10\n",
      "50000/50000 [==============================] - 2s 32us/sample - loss: 0.0406 - accuracy: 0.9876\n",
      "Epoch 8/10\n",
      "50000/50000 [==============================] - 2s 33us/sample - loss: 0.0379 - accuracy: 0.9886\n",
      "Epoch 9/10\n",
      "50000/50000 [==============================] - 2s 33us/sample - loss: 0.0342 - accuracy: 0.9890\n",
      "Epoch 10/10\n",
      "50000/50000 [==============================] - 2s 35us/sample - loss: 0.0299 - accuracy: 0.9908\n"
     ]
    },
    {
     "data": {
      "text/plain": [
       "<keras.callbacks.History at 0x2446a2a1d00>"
      ]
     },
     "execution_count": 12,
     "metadata": {},
     "output_type": "execute_result"
    }
   ],
   "source": [
    "# Training the original model on its training subset\n",
    "model_original = create_model()\n",
    "model_original.fit(\n",
    "    x=train_images_original,\n",
    "    y=train_labels_original,\n",
    "    epochs=10,\n",
    "    batch_size=256\n",
    ")"
   ]
  },
  {
   "cell_type": "code",
   "execution_count": 13,
   "metadata": {},
   "outputs": [],
   "source": [
    "# Wrapping the model in the ART KerasClassifier class\n",
    "classifier_original = KerasClassifier(\n",
    "    model=model_original,\n",
    "    clip_values=(min, max))"
   ]
  },
  {
   "cell_type": "markdown",
   "metadata": {},
   "source": [
    "## Defining and running an extraction attack"
   ]
  },
  {
   "cell_type": "code",
   "execution_count": 14,
   "metadata": {},
   "outputs": [],
   "source": [
    "# Creating the \"neural net thief\" object\n",
    "# that will steal the original classifier\n",
    "copycat_cnn = CopycatCNN(\n",
    "    batch_size_fit=256,\n",
    "    batch_size_query=256,\n",
    "    nb_epochs=20,\n",
    "    nb_stolen=len(train_images_stolen),\n",
    "    classifier=classifier_original\n",
    "    )"
   ]
  },
  {
   "cell_type": "code",
   "execution_count": 15,
   "metadata": {},
   "outputs": [],
   "source": [
    "# Creating a reference model for theft\n",
    "model_stolen = KerasClassifier(\n",
    "    model=create_model(), \n",
    "    clip_values=(min, max)\n",
    "    )"
   ]
  },
  {
   "cell_type": "code",
   "execution_count": 16,
   "metadata": {},
   "outputs": [
    {
     "name": "stdout",
     "output_type": "stream",
     "text": [
      "Train on 10000 samples\n",
      "Epoch 1/20\n",
      "10000/10000 [==============================] - 0s 39us/sample - loss: 1.3172 - accuracy: 0.6578\n",
      "Epoch 2/20\n",
      "10000/10000 [==============================] - ETA: 0s - loss: 0.3477 - accuracy: 0.89 - 0s 30us/sample - loss: 0.3373 - accuracy: 0.8992\n",
      "Epoch 3/20\n",
      "10000/10000 [==============================] - 0s 30us/sample - loss: 0.2134 - accuracy: 0.9381\n",
      "Epoch 4/20\n",
      "10000/10000 [==============================] - 0s 30us/sample - loss: 0.1644 - accuracy: 0.9508\n",
      "Epoch 5/20\n",
      "10000/10000 [==============================] - 0s 30us/sample - loss: 0.1248 - accuracy: 0.9628\n",
      "Epoch 6/20\n",
      "10000/10000 [==============================] - 0s 29us/sample - loss: 0.0988 - accuracy: 0.9702\n",
      "Epoch 7/20\n",
      "10000/10000 [==============================] - 0s 30us/sample - loss: 0.0871 - accuracy: 0.9741\n",
      "Epoch 8/20\n",
      "10000/10000 [==============================] - 0s 30us/sample - loss: 0.0693 - accuracy: 0.9792\n",
      "Epoch 9/20\n",
      "10000/10000 [==============================] - 0s 30us/sample - loss: 0.0599 - accuracy: 0.9819\n",
      "Epoch 10/20\n",
      "10000/10000 [==============================] - 0s 30us/sample - loss: 0.0496 - accuracy: 0.9850\n",
      "Epoch 11/20\n",
      "10000/10000 [==============================] - 0s 30us/sample - loss: 0.0430 - accuracy: 0.9872\n",
      "Epoch 12/20\n",
      "10000/10000 [==============================] - 0s 30us/sample - loss: 0.0355 - accuracy: 0.9901\n",
      "Epoch 13/20\n",
      "10000/10000 [==============================] - 0s 30us/sample - loss: 0.0347 - accuracy: 0.9890\n",
      "Epoch 14/20\n",
      "10000/10000 [==============================] - 0s 30us/sample - loss: 0.0274 - accuracy: 0.9922s - loss: 0.0274 - accuracy: 0.99\n",
      "Epoch 15/20\n",
      "10000/10000 [==============================] - 0s 30us/sample - loss: 0.0242 - accuracy: 0.9936\n",
      "Epoch 16/20\n",
      "10000/10000 [==============================] - 0s 30us/sample - loss: 0.0216 - accuracy: 0.9945\n",
      "Epoch 17/20\n",
      "10000/10000 [==============================] - 0s 31us/sample - loss: 0.0225 - accuracy: 0.9934\n",
      "Epoch 18/20\n",
      "10000/10000 [==============================] - 0s 30us/sample - loss: 0.0240 - accuracy: 0.9927\n",
      "Epoch 19/20\n",
      "10000/10000 [==============================] - 0s 30us/sample - loss: 0.0141 - accuracy: 0.9974\n",
      "Epoch 20/20\n",
      "10000/10000 [==============================] - 0s 30us/sample - loss: 0.0119 - accuracy: 0.9984\n"
     ]
    }
   ],
   "source": [
    "# Extracting a thieved classifier\n",
    "# by training the reference model\n",
    "stolen_classifier = copycat_cnn.extract(\n",
    "    x=train_images_stolen, \n",
    "    y=train_labels_stolen, \n",
    "    thieved_classifier=model_stolen\n",
    "    )"
   ]
  },
  {
   "cell_type": "markdown",
   "metadata": {},
   "source": [
    "## Evaluating the performance of the stolen model"
   ]
  },
  {
   "cell_type": "code",
   "execution_count": 17,
   "metadata": {},
   "outputs": [
    {
     "name": "stdout",
     "output_type": "stream",
     "text": [
      "Original test loss: 0.04 vs stolen test loss: 0.08\n",
      "Original test accuracy: 0.99 vs stolen test accuracy: 0.98\n"
     ]
    }
   ],
   "source": [
    "# Testing the performance of the original classifier\n",
    "score_original = classifier_original._model.evaluate(\n",
    "    x=test_images, \n",
    "    y=test_labels\n",
    "    )\n",
    "\n",
    "# Testing the performance of the stolen classifier\n",
    "score_stolen = stolen_classifier._model.evaluate(\n",
    "    x=test_images, \n",
    "    y=test_labels\n",
    "    )\n",
    "\n",
    "# Comparing test losses\n",
    "print(f\"Original test loss: {score_original[0]:.2f} \" \n",
    "      f\"vs stolen test loss: {score_stolen[0]:.2f}\")\n",
    "\n",
    "# Comparing test accuracies\n",
    "print(f\"Original test accuracy: {score_original[1]:.2f} \" \n",
    "      f\"vs stolen test accuracy: {score_stolen[1]:.2f}\")"
   ]
  },
  {
   "cell_type": "code",
   "execution_count": 18,
   "metadata": {},
   "outputs": [
    {
     "name": "stdout",
     "output_type": "stream",
     "text": [
      "Train on 2500 samples\n",
      "Epoch 1/20\n",
      "2500/2500 [==============================] - 0s 85us/sample - loss: 2.1984 - accuracy: 0.3116\n",
      "Epoch 2/20\n",
      "2500/2500 [==============================] - 0s 34us/sample - loss: 1.7207 - accuracy: 0.6852\n",
      "Epoch 3/20\n",
      "2500/2500 [==============================] - 0s 32us/sample - loss: 0.9790 - accuracy: 0.7840\n",
      "Epoch 4/20\n",
      "2500/2500 [==============================] - 0s 31us/sample - loss: 0.5733 - accuracy: 0.8388\n",
      "Epoch 5/20\n",
      "2500/2500 [==============================] - 0s 30us/sample - loss: 0.4315 - accuracy: 0.8732\n",
      "Epoch 6/20\n",
      "2500/2500 [==============================] - 0s 30us/sample - loss: 0.3561 - accuracy: 0.9004\n",
      "Epoch 7/20\n",
      "2500/2500 [==============================] - 0s 30us/sample - loss: 0.3023 - accuracy: 0.9152\n",
      "Epoch 8/20\n",
      "2500/2500 [==============================] - 0s 30us/sample - loss: 0.2583 - accuracy: 0.9328\n",
      "Epoch 9/20\n",
      "2500/2500 [==============================] - 0s 30us/sample - loss: 0.2257 - accuracy: 0.9364\n",
      "Epoch 10/20\n",
      "2500/2500 [==============================] - 0s 32us/sample - loss: 0.1941 - accuracy: 0.9480\n",
      "Epoch 11/20\n",
      "2500/2500 [==============================] - 0s 31us/sample - loss: 0.1796 - accuracy: 0.9504\n",
      "Epoch 12/20\n",
      "2500/2500 [==============================] - 0s 30us/sample - loss: 0.1576 - accuracy: 0.9528\n",
      "Epoch 13/20\n",
      "2500/2500 [==============================] - 0s 30us/sample - loss: 0.1381 - accuracy: 0.9632\n",
      "Epoch 14/20\n",
      "2500/2500 [==============================] - 0s 30us/sample - loss: 0.1247 - accuracy: 0.9692\n",
      "Epoch 15/20\n",
      "2500/2500 [==============================] - 0s 30us/sample - loss: 0.1095 - accuracy: 0.9700\n",
      "Epoch 16/20\n",
      "2500/2500 [==============================] - 0s 30us/sample - loss: 0.1005 - accuracy: 0.9736\n",
      "Epoch 17/20\n",
      "2500/2500 [==============================] - 0s 32us/sample - loss: 0.0876 - accuracy: 0.9784\n",
      "Epoch 18/20\n",
      "2500/2500 [==============================] - 0s 30us/sample - loss: 0.0813 - accuracy: 0.9780\n",
      "Epoch 19/20\n",
      "2500/2500 [==============================] - 0s 30us/sample - loss: 0.0739 - accuracy: 0.9804\n",
      "Epoch 20/20\n",
      "2500/2500 [==============================] - 0s 30us/sample - loss: 0.0670 - accuracy: 0.9852\n",
      "Train on 5000 samples\n",
      "Epoch 1/20\n",
      "5000/5000 [==============================] - 0s 53us/sample - loss: 1.9109 - accuracy: 0.5538\n",
      "Epoch 2/20\n",
      "5000/5000 [==============================] - 0s 30us/sample - loss: 0.6860 - accuracy: 0.8448\n",
      "Epoch 3/20\n",
      "5000/5000 [==============================] - 0s 30us/sample - loss: 0.3419 - accuracy: 0.8988\n",
      "Epoch 4/20\n",
      "5000/5000 [==============================] - 0s 30us/sample - loss: 0.2484 - accuracy: 0.9298\n",
      "Epoch 5/20\n",
      "5000/5000 [==============================] - 0s 30us/sample - loss: 0.1910 - accuracy: 0.9438\n",
      "Epoch 6/20\n",
      "5000/5000 [==============================] - 0s 30us/sample - loss: 0.1592 - accuracy: 0.9502\n",
      "Epoch 7/20\n",
      "5000/5000 [==============================] - 0s 31us/sample - loss: 0.1330 - accuracy: 0.9598\n",
      "Epoch 8/20\n",
      "5000/5000 [==============================] - 0s 30us/sample - loss: 0.1096 - accuracy: 0.9668\n",
      "Epoch 9/20\n",
      "5000/5000 [==============================] - 0s 30us/sample - loss: 0.0932 - accuracy: 0.9732\n",
      "Epoch 10/20\n",
      "5000/5000 [==============================] - 0s 30us/sample - loss: 0.0798 - accuracy: 0.9770\n",
      "Epoch 11/20\n",
      "5000/5000 [==============================] - 0s 30us/sample - loss: 0.0703 - accuracy: 0.9818\n",
      "Epoch 12/20\n",
      "5000/5000 [==============================] - 0s 30us/sample - loss: 0.0608 - accuracy: 0.9842\n",
      "Epoch 13/20\n",
      "5000/5000 [==============================] - 0s 30us/sample - loss: 0.0519 - accuracy: 0.9870\n",
      "Epoch 14/20\n",
      "5000/5000 [==============================] - 0s 31us/sample - loss: 0.0474 - accuracy: 0.9862\n",
      "Epoch 15/20\n",
      "5000/5000 [==============================] - 0s 29us/sample - loss: 0.0406 - accuracy: 0.9898\n",
      "Epoch 16/20\n",
      "5000/5000 [==============================] - 0s 30us/sample - loss: 0.0387 - accuracy: 0.9896\n",
      "Epoch 17/20\n",
      "5000/5000 [==============================] - 0s 30us/sample - loss: 0.0337 - accuracy: 0.9916\n",
      "Epoch 18/20\n",
      "5000/5000 [==============================] - 0s 31us/sample - loss: 0.0272 - accuracy: 0.9932\n",
      "Epoch 19/20\n",
      "5000/5000 [==============================] - 0s 30us/sample - loss: 0.0237 - accuracy: 0.9950\n",
      "Epoch 20/20\n",
      "5000/5000 [==============================] - 0s 30us/sample - loss: 0.0219 - accuracy: 0.9960\n",
      "Train on 7500 samples\n",
      "Epoch 1/20\n",
      "7500/7500 [==============================] - 0s 44us/sample - loss: 1.5926 - accuracy: 0.5932\n",
      "Epoch 2/20\n",
      "7500/7500 [==============================] - 0s 30us/sample - loss: 0.4485 - accuracy: 0.8671\n",
      "Epoch 3/20\n",
      "7500/7500 [==============================] - 0s 29us/sample - loss: 0.2773 - accuracy: 0.9185\n",
      "Epoch 4/20\n",
      "7500/7500 [==============================] - 0s 30us/sample - loss: 0.2072 - accuracy: 0.9371\n",
      "Epoch 5/20\n",
      "7500/7500 [==============================] - 0s 29us/sample - loss: 0.1608 - accuracy: 0.9524\n",
      "Epoch 6/20\n",
      "7500/7500 [==============================] - 0s 30us/sample - loss: 0.1252 - accuracy: 0.9628\n",
      "Epoch 7/20\n",
      "7500/7500 [==============================] - 0s 30us/sample - loss: 0.1040 - accuracy: 0.9692\n",
      "Epoch 8/20\n",
      "7500/7500 [==============================] - 0s 30us/sample - loss: 0.0870 - accuracy: 0.9747\n",
      "Epoch 9/20\n",
      "7500/7500 [==============================] - 0s 30us/sample - loss: 0.0723 - accuracy: 0.9772\n",
      "Epoch 10/20\n",
      "7500/7500 [==============================] - 0s 30us/sample - loss: 0.0622 - accuracy: 0.9803\n",
      "Epoch 11/20\n",
      "7500/7500 [==============================] - 0s 31us/sample - loss: 0.0537 - accuracy: 0.9835\n",
      "Epoch 12/20\n",
      "7500/7500 [==============================] - 0s 29us/sample - loss: 0.0458 - accuracy: 0.9861\n",
      "Epoch 13/20\n",
      "7500/7500 [==============================] - 0s 30us/sample - loss: 0.0419 - accuracy: 0.9881\n",
      "Epoch 14/20\n",
      "7500/7500 [==============================] - 0s 29us/sample - loss: 0.0371 - accuracy: 0.9900\n",
      "Epoch 15/20\n",
      "7500/7500 [==============================] - 0s 30us/sample - loss: 0.0344 - accuracy: 0.9896\n",
      "Epoch 16/20\n",
      "7500/7500 [==============================] - 0s 30us/sample - loss: 0.0317 - accuracy: 0.9908\n",
      "Epoch 17/20\n",
      "7500/7500 [==============================] - 0s 30us/sample - loss: 0.0260 - accuracy: 0.9925\n",
      "Epoch 18/20\n",
      "7500/7500 [==============================] - 0s 30us/sample - loss: 0.0209 - accuracy: 0.9957\n",
      "Epoch 19/20\n",
      "7500/7500 [==============================] - 0s 29us/sample - loss: 0.0220 - accuracy: 0.9951\n",
      "Epoch 20/20\n",
      "7500/7500 [==============================] - 0s 30us/sample - loss: 0.0184 - accuracy: 0.9964\n",
      "Train on 10000 samples\n",
      "Epoch 1/20\n",
      "10000/10000 [==============================] - 0s 37us/sample - loss: 1.2591 - accuracy: 0.6958\n",
      "Epoch 2/20\n",
      "10000/10000 [==============================] - 0s 30us/sample - loss: 0.3010 - accuracy: 0.9092\n",
      "Epoch 3/20\n",
      "10000/10000 [==============================] - 0s 29us/sample - loss: 0.1918 - accuracy: 0.9414\n",
      "Epoch 4/20\n",
      "10000/10000 [==============================] - 0s 30us/sample - loss: 0.1388 - accuracy: 0.9587\n",
      "Epoch 5/20\n",
      "10000/10000 [==============================] - 0s 29us/sample - loss: 0.1082 - accuracy: 0.9651\n",
      "Epoch 6/20\n",
      "10000/10000 [==============================] - 0s 32us/sample - loss: 0.0895 - accuracy: 0.9706\n",
      "Epoch 7/20\n",
      "10000/10000 [==============================] - 0s 30us/sample - loss: 0.0762 - accuracy: 0.9760\n",
      "Epoch 8/20\n",
      "10000/10000 [==============================] - 0s 31us/sample - loss: 0.0709 - accuracy: 0.9768\n",
      "Epoch 9/20\n",
      "10000/10000 [==============================] - 0s 30us/sample - loss: 0.0570 - accuracy: 0.9812\n",
      "Epoch 10/20\n",
      "10000/10000 [==============================] - 0s 30us/sample - loss: 0.0458 - accuracy: 0.9855\n",
      "Epoch 11/20\n",
      "10000/10000 [==============================] - 0s 30us/sample - loss: 0.0423 - accuracy: 0.9874\n",
      "Epoch 12/20\n",
      "10000/10000 [==============================] - 0s 30us/sample - loss: 0.0361 - accuracy: 0.9888\n",
      "Epoch 13/20\n",
      "10000/10000 [==============================] - 0s 30us/sample - loss: 0.0348 - accuracy: 0.9892\n",
      "Epoch 14/20\n",
      "10000/10000 [==============================] - 0s 30us/sample - loss: 0.0278 - accuracy: 0.9912\n",
      "Epoch 15/20\n",
      "10000/10000 [==============================] - 0s 30us/sample - loss: 0.0247 - accuracy: 0.9928\n",
      "Epoch 16/20\n",
      "10000/10000 [==============================] - 0s 30us/sample - loss: 0.0230 - accuracy: 0.9937\n",
      "Epoch 17/20\n",
      "10000/10000 [==============================] - 0s 30us/sample - loss: 0.0193 - accuracy: 0.9951\n",
      "Epoch 18/20\n",
      "10000/10000 [==============================] - 0s 30us/sample - loss: 0.0162 - accuracy: 0.9957\n",
      "Epoch 19/20\n",
      "10000/10000 [==============================] - 0s 30us/sample - loss: 0.0152 - accuracy: 0.9960\n",
      "Epoch 20/20\n",
      "10000/10000 [==============================] - 0s 30us/sample - loss: 0.0136 - accuracy: 0.9961\n"
     ]
    }
   ],
   "source": [
    "# Defining subsets to try\n",
    "data_subsets_to_try = [2500, 5000, 7500, 10000]\n",
    "\n",
    "# Initializing a dict to store scores\n",
    "scores = {}\n",
    "\n",
    "# Iterating over each data subset\n",
    "for data_subset in data_subsets_to_try:\n",
    "    # Creating a reference model for theft\n",
    "    model_stolen = KerasClassifier(\n",
    "        model=create_model(), \n",
    "        clip_values=(0, 1)\n",
    "        )\n",
    "\n",
    "    # Creating the \"neural net thief\" object\n",
    "    # to train with the current subset size\n",
    "    copycat_cnn = CopycatCNN(\n",
    "        batch_size_fit=256,\n",
    "        batch_size_query=256,\n",
    "        nb_epochs=20,\n",
    "        nb_stolen=data_subset,\n",
    "        classifier=classifier_original\n",
    "    )\n",
    "\n",
    "    # Extracting a thieved classifier,\n",
    "    # using a subset of the stolen data\n",
    "    stolen_classifier = copycat_cnn.extract(\n",
    "        x=train_images_stolen[:data_subset], \n",
    "        y=train_labels_stolen[:data_subset], \n",
    "        thieved_classifier=model_stolen\n",
    "        )\n",
    "\n",
    "    # Calculating test metrics for the current stolen model\n",
    "    scores[data_subset] = stolen_classifier._model.evaluate(\n",
    "        x=test_images,\n",
    "        y=test_labels\n",
    "    )   "
   ]
  },
  {
   "cell_type": "code",
   "execution_count": 19,
   "metadata": {},
   "outputs": [
    {
     "data": {
      "image/png": "[encoded data removed]",
      "text/plain": [
       "<Figure size 720x720 with 1 Axes>"
      ]
     },
     "metadata": {
      "needs_background": "light"
     },
     "output_type": "display_data"
    }
   ],
   "source": [
    "# Converting the dict values to a Python list\n",
    "score_values = list(scores.values())\n",
    "\n",
    "# Creating a matplotlib figure\n",
    "fig = plt.figure(figsize=(10, 10))\n",
    "\n",
    "# Iterating over our data subsets,\n",
    "# plotting the test loss for each\n",
    "for i in range(len(data_subsets_to_try)):\n",
    "    plt.bar(\n",
    "        x=str(data_subsets_to_try[i]), \n",
    "        height=score_values[i][0]\n",
    "        )\n",
    "\n",
    "# Setting a title for the figure and showing it\n",
    "plt.title(label=\"Test loss of the stolen classifiers based on the number of stolen samples\")\n",
    "plt.xlabel(xlabel=\"Subset size\")\n",
    "plt.ylabel(ylabel=\"Test loss\")\n",
    "plt.show()"
   ]
  },
  {
   "cell_type": "code",
   "execution_count": 20,
   "metadata": {},
   "outputs": [
    {
     "data": {
      "image/png": "[encoded data removed]",
      "text/plain": [
       "<Figure size 720x720 with 1 Axes>"
      ]
     },
     "metadata": {
      "needs_background": "light"
     },
     "output_type": "display_data"
    }
   ],
   "source": [
    "# Creating a matplotlib figure\n",
    "fig = plt.figure(figsize=(10, 10))\n",
    "\n",
    "# Iterating over our data subsets,\n",
    "# plotting the test accuracy for each\n",
    "for i in range(len(data_subsets_to_try)):\n",
    "    plt.bar(\n",
    "        x=str(data_subsets_to_try[i]), \n",
    "        height=score_values[i][1] * 100\n",
    "        )\n",
    "\n",
    "# Setting a title for the figure and showing it\n",
    "plt.title(label=\"Test accuracy of the stolen classifiers based on the number of stolen samples\")\n",
    "plt.xlabel(xlabel=\"Subset size\")\n",
    "plt.ylabel(ylabel=\"Test accuracy\")\n",
    "plt.show()"
   ]
  },
  {
   "cell_type": "markdown",
   "metadata": {},
   "source": [
    "# Inference Attacks in ART"
   ]
  },
  {
   "cell_type": "markdown",
   "metadata": {},
   "source": [
    "## Defining the attack"
   ]
  },
  {
   "cell_type": "code",
   "execution_count": 21,
   "metadata": {},
   "outputs": [],
   "source": [
    "# Importing dependencies\n",
    "from art.attacks.inference.model_inversion import MIFace\n",
    "\n",
    "# Defining a model inversion attack\n",
    "attack = MIFace(\n",
    "    classifier=classifier,\n",
    "    max_iter=2500,\n",
    "    batch_size=256)"
   ]
  },
  {
   "cell_type": "code",
   "execution_count": 22,
   "metadata": {},
   "outputs": [
    {
     "name": "stdout",
     "output_type": "stream",
     "text": [
      "[0 1 2 3 4 5 6 7 8 9]\n"
     ]
    }
   ],
   "source": [
    "# Defining the target labels for model inversion\n",
    "y = np.arange(start=0, stop=10)\n",
    "\n",
    "# Inspecting the target labels\n",
    "print(y)"
   ]
  },
  {
   "cell_type": "code",
   "execution_count": 23,
   "metadata": {},
   "outputs": [],
   "source": [
    "# Defining an initialization array for model inversion\n",
    "x_init_average = np.zeros(shape=(10, 28, 28, 1)) + np.mean(a=test_images, axis=0)"
   ]
  },
  {
   "cell_type": "code",
   "execution_count": 24,
   "metadata": {},
   "outputs": [
    {
     "name": "stdout",
     "output_type": "stream",
     "text": [
      "[0.14426005 0.1032533  0.0699798  0.04295066 0.00503148 0.01931691\n",
      " 0.02252066 0.00906549 0.06300844 0.16753715]\n"
     ]
    }
   ],
   "source": [
    "# Checking class gradients\n",
    "class_gradient = classifier.class_gradient(\n",
    "    x=x_init_average, \n",
    "    label=y\n",
    "    )\n",
    "\n",
    "# Reshaping class gradients\n",
    "class_gradient = np.reshape(\n",
    "    a=class_gradient, \n",
    "    newshape=(10, 28*28)\n",
    "    )\n",
    "\n",
    "# Obtaining the largest gradient value for each class\n",
    "class_gradient_max = np.max(class_gradient, axis=1)\n",
    "\n",
    "# Inspecting class gradients\n",
    "print(class_gradient_max)"
   ]
  },
  {
   "cell_type": "markdown",
   "metadata": {},
   "source": [
    "## Running a model inversion attack"
   ]
  },
  {
   "cell_type": "code",
   "execution_count": 25,
   "metadata": {},
   "outputs": [
    {
     "name": "stderr",
     "output_type": "stream",
     "text": [
      "Model inversion: 100%|██████████| 1/1 [00:51<00:00, 51.23s/it]"
     ]
    },
    {
     "name": "stdout",
     "output_type": "stream",
     "text": [
      "Wall time: 51.2 s\n"
     ]
    },
    {
     "name": "stderr",
     "output_type": "stream",
     "text": [
      "\n"
     ]
    }
   ],
   "source": [
    "%%time\n",
    "\n",
    "# Running model inversion\n",
    "x_infer_from_average = attack.infer(\n",
    "    x=x_init_average, \n",
    "    y=y\n",
    "    )"
   ]
  },
  {
   "cell_type": "code",
   "execution_count": 26,
   "metadata": {},
   "outputs": [
    {
     "data": {
      "image/png": "[encoded data removed]",
      "text/plain": [
       "<Figure size 1440x720 with 10 Axes>"
      ]
     },
     "metadata": {},
     "output_type": "display_data"
    }
   ],
   "source": [
    "# Creating a figure and axes for our plot\n",
    "fig, axes = plt.subplots(\n",
    "    nrows=nrows, \n",
    "    ncols=ncols, \n",
    "    figsize=(20, 10)\n",
    "    )\n",
    "\n",
    "# Declaring a counting variable\n",
    "counter = 0\n",
    "\n",
    "# Iterating over the axes and plotting the inferred images in them\n",
    "for i in range(nrows):\n",
    "    for j in range(ncols):        \n",
    "        axes[i, j].set_xticks(ticks=[])\n",
    "        axes[i, j].set_yticks(ticks=[])\n",
    "        axes[i, j].imshow(X=x_infer_from_average[counter])\n",
    "\n",
    "        # Incrementing the counter\n",
    "        counter += 1\n",
    "\n",
    "# Showing the plotted axes\n",
    "plt.show()"
   ]
  },
  {
   "cell_type": "markdown",
   "metadata": {},
   "source": [
    "# Poisoning Attack in ART"
   ]
  },
  {
   "cell_type": "markdown",
   "metadata": {},
   "source": [
    "## Poisoning sample data"
   ]
  },
  {
   "cell_type": "code",
   "execution_count": 27,
   "metadata": {},
   "outputs": [
    {
     "name": "stdout",
     "output_type": "stream",
     "text": [
      "The target labels for poisoning are\n",
      " [[0. 0. 0. 0. 0. 1. 0. 0. 0. 0.]\n",
      " [0. 0. 0. 0. 0. 1. 0. 0. 0. 0.]\n",
      " [0. 0. 0. 0. 0. 1. 0. 0. 0. 0.]\n",
      " [0. 0. 0. 0. 0. 1. 0. 0. 0. 0.]\n",
      " [0. 0. 0. 0. 0. 1. 0. 0. 0. 0.]]\n"
     ]
    }
   ],
   "source": [
    "# Importing dependencies\n",
    "from art.attacks.poisoning import PoisoningAttackBackdoor, PoisoningAttackCleanLabelBackdoor\n",
    "from art.attacks.poisoning.perturbations import add_pattern_bd\n",
    "from art.utils import to_categorical\n",
    "\n",
    "# Defining a poisoning backdoor attack\n",
    "backdoor = PoisoningAttackBackdoor(perturbation=add_pattern_bd)\n",
    "\n",
    "# Defining a target label for poisoning\n",
    "target = to_categorical(\n",
    "    labels=np.repeat(a=5, repeats=5), \n",
    "    nb_classes=10\n",
    "    )\n",
    "\n",
    "# Inspecting the target labels\n",
    "print(f\"The target labels for poisoning are\\n {target}\")"
   ]
  },
  {
   "cell_type": "code",
   "execution_count": 28,
   "metadata": {},
   "outputs": [],
   "source": [
    "# Poisoning sample data\n",
    "poisoned_images, poisoned_labels = backdoor.poison(\n",
    "    x=train_images[:5], \n",
    "    y=target\n",
    "    )"
   ]
  },
  {
   "cell_type": "code",
   "execution_count": 29,
   "metadata": {},
   "outputs": [
    {
     "data": {
      "image/png": "[encoded data removed]",
      "text/plain": [
       "<Figure size 1080x360 with 5 Axes>"
      ]
     },
     "metadata": {},
     "output_type": "display_data"
    }
   ],
   "source": [
    "# Creating a figure and axes for the poisoned images\n",
    "fig, axes = plt.subplots(\n",
    "    nrows=1, \n",
    "    ncols=5, \n",
    "    squeeze=True, \n",
    "    figsize=(15, 5)\n",
    "    )\n",
    "\n",
    "# Plotting the poisoned images\n",
    "for i in range(len(poisoned_images)):\n",
    "    axes[i].imshow(X=poisoned_images[i])\n",
    "    axes[i].set_title(label=f\"Label: {np.argmax(poisoned_labels[i])}\")\n",
    "    axes[i].set_xticks(ticks=[])\n",
    "    axes[i].set_yticks(ticks=[])    \n",
    "\n",
    "# Showing the plot\n",
    "plt.show()"
   ]
  },
  {
   "cell_type": "markdown",
   "metadata": {},
   "source": [
    "## Defining a backdoor attack"
   ]
  },
  {
   "cell_type": "code",
   "execution_count": 30,
   "metadata": {},
   "outputs": [],
   "source": [
    "# Defining a target label for poisoning\n",
    "target = to_categorical(\n",
    "    labels=[9], \n",
    "    nb_classes=10\n",
    "    )[0]\n",
    "\n",
    "# Defining a clean label backdoor attack\n",
    "attack = PoisoningAttackCleanLabelBackdoor(\n",
    "    backdoor=backdoor, \n",
    "    proxy_classifier=classifier,\n",
    "    target=target, \n",
    "    pp_poison=0.75, \n",
    "    norm=2, \n",
    "    eps=5, \n",
    "    eps_step=0.1, \n",
    "    max_iter=200)"
   ]
  },
  {
   "cell_type": "code",
   "execution_count": 31,
   "metadata": {},
   "outputs": [
    {
     "name": "stderr",
     "output_type": "stream",
     "text": [
      "PGD - Random Initializations: 100%|██████████| 1/1 [00:00<00:00,  1.39it/s]\n",
      "PGD - Random Initializations: 100%|██████████| 1/1 [00:00<00:00,  1.42it/s]\n",
      "PGD - Random Initializations: 100%|██████████| 1/1 [00:00<00:00,  1.39it/s]\n",
      "PGD - Random Initializations: 100%|██████████| 1/1 [00:00<00:00,  1.25it/s]\n",
      "PGD - Random Initializations: 100%|██████████| 1/1 [00:00<00:00,  1.26it/s]\n",
      "PGD - Random Initializations: 100%|██████████| 1/1 [00:00<00:00,  1.30it/s]\n",
      "PGD - Random Initializations: 100%|██████████| 1/1 [00:00<00:00,  1.30it/s]\n",
      "PGD - Random Initializations: 100%|██████████| 1/1 [00:00<00:00,  1.23it/s]\n",
      "PGD - Random Initializations: 100%|██████████| 1/1 [00:00<00:00,  1.22it/s]\n",
      "PGD - Random Initializations: 100%|██████████| 1/1 [00:00<00:00,  1.29it/s]\n",
      "PGD - Random Initializations: 100%|██████████| 1/1 [00:00<00:00,  1.28it/s]\n",
      "PGD - Random Initializations: 100%|██████████| 1/1 [00:00<00:00,  1.27it/s]\n",
      "PGD - Random Initializations: 100%|██████████| 1/1 [00:00<00:00,  1.28it/s]\n",
      "PGD - Random Initializations: 100%|██████████| 1/1 [00:00<00:00,  1.25it/s]\n",
      "PGD - Random Initializations: 100%|██████████| 1/1 [00:00<00:00,  1.25it/s]\n",
      "PGD - Random Initializations: 100%|██████████| 1/1 [00:00<00:00,  1.30it/s]\n",
      "PGD - Random Initializations: 100%|██████████| 1/1 [00:00<00:00,  1.28it/s]\n",
      "PGD - Random Initializations: 100%|██████████| 1/1 [00:00<00:00,  1.28it/s]\n",
      "PGD - Random Initializations: 100%|██████████| 1/1 [00:00<00:00,  1.27it/s]\n",
      "PGD - Random Initializations: 100%|██████████| 1/1 [00:00<00:00,  1.29it/s]\n",
      "PGD - Random Initializations: 100%|██████████| 1/1 [00:00<00:00,  1.29it/s]\n",
      "PGD - Random Initializations: 100%|██████████| 1/1 [00:00<00:00,  1.27it/s]\n",
      "PGD - Random Initializations: 100%|██████████| 1/1 [00:00<00:00,  1.29it/s]\n"
     ]
    }
   ],
   "source": [
    "# Poisoning training data\n",
    "poisoned_images, poisoned_labels = attack.poison(\n",
    "    x=train_images[:10000], \n",
    "    y=train_labels[:10000]\n",
    "    )"
   ]
  },
  {
   "cell_type": "code",
   "execution_count": 32,
   "metadata": {},
   "outputs": [
    {
     "data": {
      "image/png": "[encoded data removed]",
      "text/plain": [
       "<Figure size 720x1800 with 10 Axes>"
      ]
     },
     "metadata": {},
     "output_type": "display_data"
    }
   ],
   "source": [
    "# Getting the indices of the images\n",
    "# whose target corresponds to our backdoor target\n",
    "poisoned_indices = np.all(\n",
    "        a=(poisoned_labels == target), \n",
    "        axis=1\n",
    "        )\n",
    "\n",
    "# Getting a few images from the poisoned and clean dataset for comparison\n",
    "sample_poisoned_images = poisoned_images[poisoned_indices][:5]\n",
    "sample_clean_images = train_images[:10000][poisoned_indices][:5]\n",
    "\n",
    "# Defining a number of rows and columns for the plot\n",
    "nrows, ncols = 5, 2\n",
    "\n",
    "# Creating a figure and axes\n",
    "fig, axes = plt.subplots(\n",
    "        nrows=nrows, \n",
    "        ncols=ncols, \n",
    "        figsize=(10, 25)\n",
    "        )\n",
    "\n",
    "# Defining a counting variable\n",
    "counter = 0\n",
    "\n",
    "# Indicating the purpose of each column\n",
    "axes[0, 0].set_title(\n",
    "        label=\"Images from the poisoned dataset\", \n",
    "        pad=25\n",
    "        )\n",
    "axes[0, 1].set_title(\n",
    "        label=\"Images from the clean dataset\", \n",
    "        pad=25\n",
    "        )\n",
    "\n",
    "# Iterating over the axis rows in our figure\n",
    "for i in range(nrows):    \n",
    "        # Plotting the image from the poisoned dataset,\n",
    "        # turning off axis ticks,\n",
    "        # and setting axis title\n",
    "        axes[i, 0].imshow(sample_poisoned_images[counter])        \n",
    "        axes[i, 0].set_xticks(ticks=[])\n",
    "        axes[i, 0].set_yticks(ticks=[])\n",
    "        \n",
    "\n",
    "        # Plotting the image from the clean dataset,\n",
    "        # turning off axis ticks,\n",
    "        # and setting axis title\n",
    "        axes[i, 1].imshow(sample_clean_images[counter])\n",
    "        axes[i, 1].set_xticks(ticks=[])\n",
    "        axes[i, 1].set_yticks(ticks=[])\n",
    "\n",
    "\n",
    "        # Incrementing counter value\n",
    "        counter += 1\n",
    "\n",
    "# Showing the plot\n",
    "plt.show()"
   ]
  },
  {
   "cell_type": "markdown",
   "metadata": {},
   "source": [
    "## Training a victim classifier"
   ]
  },
  {
   "cell_type": "code",
   "execution_count": 33,
   "metadata": {},
   "outputs": [],
   "source": [
    "# Function for creating victim model\n",
    "def create_victim_model():\n",
    "    # Defining the model's architecture\n",
    "    model = tf.keras.models.Sequential([\n",
    "        Conv2D(filters=32, kernel_size=3, activation=\"relu\", input_shape=(28, 28, 1)),\n",
    "        Conv2D(filters=32, kernel_size=3, activation=\"relu\"),\n",
    "        MaxPool2D(pool_size=2),\n",
    "        Flatten(),\n",
    "        Dense(units=10, activation=\"softmax\")\n",
    "    ])\n",
    "    \n",
    "    # Compiling the model\n",
    "    model.compile(\n",
    "        loss='categorical_crossentropy', \n",
    "        optimizer='adam', \n",
    "        metrics=['accuracy']\n",
    "        )\n",
    "\n",
    "    # Returning the model\n",
    "    return model   "
   ]
  },
  {
   "cell_type": "code",
   "execution_count": 34,
   "metadata": {},
   "outputs": [
    {
     "name": "stdout",
     "output_type": "stream",
     "text": [
      "Train on 10000 samples\n",
      "Epoch 1/10\n",
      "10000/10000 [==============================] - 2s 175us/sample - loss: 0.4110 - accuracy: 0.8754\n",
      "Epoch 2/10\n",
      "10000/10000 [==============================] - 1s 142us/sample - loss: 0.1279 - accuracy: 0.9609\n",
      "Epoch 3/10\n",
      "10000/10000 [==============================] - 1s 141us/sample - loss: 0.0796 - accuracy: 0.9761\n",
      "Epoch 4/10\n",
      "10000/10000 [==============================] - 1s 142us/sample - loss: 0.0593 - accuracy: 0.9821\n",
      "Epoch 5/10\n",
      "10000/10000 [==============================] - 1s 147us/sample - loss: 0.0380 - accuracy: 0.9885\n",
      "Epoch 6/10\n",
      "10000/10000 [==============================] - 2s 150us/sample - loss: 0.0299 - accuracy: 0.9907\n",
      "Epoch 7/10\n",
      "10000/10000 [==============================] - 1s 141us/sample - loss: 0.0255 - accuracy: 0.9918\n",
      "Epoch 8/10\n",
      "10000/10000 [==============================] - 1s 137us/sample - loss: 0.0154 - accuracy: 0.9954\n",
      "Epoch 9/10\n",
      "10000/10000 [==============================] - 1s 141us/sample - loss: 0.0126 - accuracy: 0.9963\n",
      "Epoch 10/10\n",
      "10000/10000 [==============================] - ETA: 0s - loss: 0.0104 - accuracy: 0.99 - 1s 140us/sample - loss: 0.0107 - accuracy: 0.9966\n"
     ]
    },
    {
     "data": {
      "text/plain": [
       "<keras.callbacks.History at 0x2451993ef70>"
      ]
     },
     "execution_count": 34,
     "metadata": {},
     "output_type": "execute_result"
    }
   ],
   "source": [
    "# Creating and training a victim classifier\n",
    "# with the poisoned data\n",
    "model_poisoned = create_victim_model()\n",
    "model_poisoned.fit(\n",
    "    x=poisoned_images, \n",
    "    y=poisoned_labels, \n",
    "    epochs=10\n",
    "    )"
   ]
  },
  {
   "cell_type": "markdown",
   "metadata": {},
   "source": [
    "## Poisoning data at inference time"
   ]
  },
  {
   "cell_type": "code",
   "execution_count": 35,
   "metadata": {},
   "outputs": [],
   "source": [
    "# Getting the indices of the test images whose target \n",
    "# is different from the backdoor target\n",
    "not_target = np.logical_not(np.all(\n",
    "    a=test_labels == target, \n",
    "    axis=1\n",
    "    ))\n",
    "\n",
    "# Poisoning the test data while keeping the labels the same\n",
    "px_test, py_test = backdoor.poison(\n",
    "    x=test_images[not_target], \n",
    "    y=test_labels[not_target]\n",
    "    )"
   ]
  },
  {
   "cell_type": "code",
   "execution_count": 36,
   "metadata": {},
   "outputs": [
    {
     "data": {
      "image/png": "[encoded data removed]",
      "text/plain": [
       "<Figure size 1800x720 with 10 Axes>"
      ]
     },
     "metadata": {},
     "output_type": "display_data"
    }
   ],
   "source": [
    "# Setting the number of rows and columns for the plot\n",
    "nrows, ncols = 2, 5\n",
    "\n",
    "# Creating a figure and axes\n",
    "fig, axes = plt.subplots(\n",
    "    nrows=nrows, \n",
    "    ncols=ncols, \n",
    "    figsize=(25, 10)\n",
    "    )\n",
    "\n",
    "# Defining a counting variable\n",
    "counter = 0\n",
    "\n",
    "# Iterating over rows and cols,\n",
    "# plotting poisoned test images\n",
    "# along with their true targets\n",
    "for i in range(nrows):\n",
    "    for j in range(ncols):\n",
    "        axes[i, j].imshow(px_test[counter])\n",
    "        axes[i, j].set_title(label=f\"True label: {np.argmax(py_test[counter])}\")\n",
    "        axes[i, j].set_xticks(ticks=[])\n",
    "        axes[i, j].set_yticks(ticks=[])\n",
    "\n",
    "        # Incrementing the counter\n",
    "        counter += 1"
   ]
  },
  {
   "cell_type": "code",
   "execution_count": 37,
   "metadata": {},
   "outputs": [
    {
     "name": "stderr",
     "output_type": "stream",
     "text": [
      "C:\\Users\\tigra\\AppData\\Local\\Programs\\Python\\Python39\\lib\\site-packages\\keras\\engine\\training_v1.py:2057: UserWarning: `Model.state_updates` will be removed in a future version. This property should not be used in TensorFlow 2.0, as `updates` are applied automatically.\n",
      "  updates = self.state_updates\n"
     ]
    },
    {
     "name": "stdout",
     "output_type": "stream",
     "text": [
      "Clean test loss: 0.13 vs poisoned test loss: 2.31\n",
      "Clean test accuracy: 0.97 vs poisoned test accuracy: 0.60\n"
     ]
    }
   ],
   "source": [
    "# Evaluating the poisoned classifier on clean test data\n",
    "scores_clean = model_poisoned.evaluate(\n",
    "    x=test_images, \n",
    "    y=test_labels\n",
    "    )\n",
    "\n",
    "# Evaluating the poisoned classifier on poisoned test data\n",
    "scores_poisoned = model_poisoned.evaluate(\n",
    "    x=px_test, \n",
    "    y=py_test\n",
    "    )\n",
    "\n",
    "# Comparing test losses\n",
    "print(f\"Clean test loss: {scores_clean[0]:.2f} \" \n",
    "      f\"vs poisoned test loss: {scores_poisoned[0]:.2f}\")\n",
    "\n",
    "# Comparing test accuracies\n",
    "print(f\"Clean test accuracy: {scores_clean[1]:.2f} \" \n",
    "      f\"vs poisoned test accuracy: {scores_poisoned[1]:.2f}\")"
   ]
  },
  {
   "cell_type": "code",
   "execution_count": 38,
   "metadata": {},
   "outputs": [
    {
     "name": "stderr",
     "output_type": "stream",
     "text": [
      "C:\\Users\\tigra\\AppData\\Local\\Programs\\Python\\Python39\\lib\\site-packages\\keras\\engine\\training_v1.py:2079: UserWarning: `Model.state_updates` will be removed in a future version. This property should not be used in TensorFlow 2.0, as `updates` are applied automatically.\n",
      "  updates=self.state_updates,\n"
     ]
    },
    {
     "data": {
      "image/png": "[encoded data removed]",
      "text/plain": [
       "<Figure size 1800x720 with 10 Axes>"
      ]
     },
     "metadata": {},
     "output_type": "display_data"
    }
   ],
   "source": [
    "# Setting the number of rows and columns for the plot\n",
    "nrows, ncols = 2, 5\n",
    "\n",
    "# Creating a figure and axes\n",
    "fig, axes = plt.subplots(\n",
    "    nrows=nrows, \n",
    "    ncols=ncols, \n",
    "    figsize=(25, 10)\n",
    "    )\n",
    "\n",
    "# Getting predictions for the first ten poisoned images\n",
    "poisoned_predictions = model_poisoned.predict(x=px_test[:10])\n",
    "\n",
    "# Defining a counting variable\n",
    "counter = 0\n",
    "\n",
    "# Iterating over rows and cols,\n",
    "# plotting poisoned images\n",
    "# along with their predictions\n",
    "for i in range(nrows):\n",
    "    for j in range(ncols):\n",
    "        axes[i, j].imshow(px_test[counter])\n",
    "        axes[i, j].set_title(label=f\"Prediction: {np.argmax(poisoned_predictions[counter])}\")\n",
    "        axes[i, j].set_xticks(ticks=[])\n",
    "        axes[i, j].set_yticks(ticks=[])\n",
    "\n",
    "        # Incrementing the counter\n",
    "        counter += 1"
   ]
  }
 ],
 "metadata": {
  "interpreter": {
   "hash": "0281ae4893e10b52c4d5b801530748bd8cbe731f1c41bfa8f327e88220bd1102"
  },
  "kernelspec": {
   "display_name": "Python 3.9.6 64-bit",
   "language": "python",
   "name": "python3"
  },
  "language_info": {
   "codemirror_mode": {
    "name": "ipython",
    "version": 3
   },
   "file_extension": ".py",
   "mimetype": "text/x-python",
   "name": "python",
   "nbconvert_exporter": "python",
   "pygments_lexer": "ipython3",
   "version": "3.9.6"
  },
  "orig_nbformat": 4
 },
 "nbformat": 4,
 "nbformat_minor": 2
}
